{
 "cells": [
  {
   "cell_type": "markdown",
   "metadata": {},
   "source": [
    "GFP-GAN: Towards Real-World Blind Face Restoration with Generative Facial Prior\n",
    "\n",
    "# Dependencies and Installation\n",
    "\n",
    "* Python >= 3.7 (Recommend to use Anaconda or Miniconda)\n",
    "* PyTorch >= 1.7\n",
    "* Option: NVIDIA GPU + CUDA\n",
    "* Option: Linux"
   ]
  },
  {
   "cell_type": "markdown",
   "metadata": {},
   "source": [
    "# *Clone repo*"
   ]
  },
  {
   "cell_type": "code",
   "execution_count": 1,
   "metadata": {},
   "outputs": [
    {
     "name": "stderr",
     "output_type": "stream",
     "text": [
      "Cloning into 'GFPGAN'...\n"
     ]
    }
   ],
   "source": [
    "!git clone https://github.com/TencentARC/GFPGAN.git\n",
    "!cd GFPGAN"
   ]
  },
  {
   "cell_type": "markdown",
   "metadata": {},
   "source": [
    "# *Install dependent packages*"
   ]
  },
  {
   "cell_type": "code",
   "execution_count": null,
   "metadata": {},
   "outputs": [],
   "source": [
    "# Install basicsr - https://github.com/xinntao/BasicSR\n",
    "# We use BasicSR for both training and inference\n",
    "!pip install basicsr\n",
    "\n",
    "# Install facexlib - https://github.com/xinntao/facexlib\n",
    "# We use face detection and face restoration helper in the facexlib package\n",
    "!pip install facexlib\n",
    "\n",
    "!pip install -r requirements.txt\n",
    "!python setup.py develop\n",
    "\n",
    "# If you want to enhance the background (non-face) regions with Real-ESRGAN,\n",
    "# you also need to install the realesrgan package\n",
    "!pip install realesrgan"
   ]
  },
  {
   "cell_type": "markdown",
   "metadata": {},
   "source": [
    "## Download pre-trained models"
   ]
  },
  {
   "cell_type": "code",
   "execution_count": 8,
   "metadata": {},
   "outputs": [
    {
     "name": "stderr",
     "output_type": "stream",
     "text": [
      "'wget' is not recognized as an internal or external command,\n",
      "operable program or batch file.\n"
     ]
    },
    {
     "data": {
      "text/plain": [
       "'\\nNote that V1.3 is not always better than V1.2. You may need to select different models based on your purpose and inputs.\\n\\nprevious pretrained Models:\\nhttps://github.com/TencentARC/GFPGAN/releases/download/v0.2.0/GFPGANCleanv1-NoCE-C2.pth\\nhttps://github.com/TencentARC/GFPGAN/releases/download/v0.1.0/GFPGANv1.pth\\n'"
      ]
     },
     "execution_count": 8,
     "metadata": {},
     "output_type": "execute_result"
    }
   ],
   "source": [
    "!wget https://github.com/TencentARC/GFPGAN/releases/download/v1.3.0/GFPGANv1.3.pth -P experiments/pretrained_models\n",
    "\n",
    "'''\n",
    "Note that V1.3 is not always better than V1.2. You may need to select different models based on your purpose and inputs.\n",
    "\n",
    "previous pretrained Models:\n",
    "https://github.com/TencentARC/GFPGAN/releases/download/v0.2.0/GFPGANCleanv1-NoCE-C2.pth\n",
    "https://github.com/TencentARC/GFPGAN/releases/download/v0.1.0/GFPGANv1.pth\n",
    "'''"
   ]
  },
  {
   "cell_type": "markdown",
   "metadata": {},
   "source": [
    "## Inference! "
   ]
  },
  {
   "cell_type": "code",
   "execution_count": null,
   "metadata": {},
   "outputs": [],
   "source": [
    "!python inference_gfpgan.py -i inputs/whole_imgs -o results -v 1.3 -s 2\n",
    "\n",
    "'''\n",
    "Usage: python inference_gfpgan.py -i inputs/whole_imgs -o results -v 1.3 -s 2 [options]...\n",
    "\n",
    "  -h                   show this help\n",
    "  -i input             Input image or folder. Default: inputs/whole_imgs\n",
    "  -o output            Output folder. Default: results\n",
    "  -v version           GFPGAN model version. Option: 1 | 1.2 | 1.3. Default: 1.3\n",
    "  -s upscale           The final upsampling scale of the image. Default: 2\n",
    "  -bg_upsampler        background upsampler. Default: realesrgan\n",
    "  -bg_tile             Tile size for background sampler, 0 for no tile during testing. Default: 400\n",
    "  -suffix              Suffix of the restored faces\n",
    "  -only_center_face    Only restore the center face\n",
    "  -aligned             Input are aligned faces\n",
    "  -ext                 Image extension. Options: auto | jpg | png, \n",
    "  auto means using the same extension as inputs. Default: auto\n",
    "'''"
   ]
  }
 ],
 "metadata": {
  "kernelspec": {
   "display_name": "Python 3",
   "language": "python",
   "name": "python3"
  },
  "language_info": {
   "codemirror_mode": {
    "name": "ipython",
    "version": 3
   },
   "file_extension": ".py",
   "mimetype": "text/x-python",
   "name": "python",
   "nbconvert_exporter": "python",
   "pygments_lexer": "ipython3",
   "version": "3.11.3"
  },
  "orig_nbformat": 4
 },
 "nbformat": 4,
 "nbformat_minor": 2
}
