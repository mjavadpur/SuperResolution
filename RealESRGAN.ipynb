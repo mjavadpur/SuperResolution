{
  "cells": [
    {
      "cell_type": "markdown",
      "metadata": {
        "id": "6BPxh_VmVVIu"
      },
      "source": [
        "# 1. Preparations\n",
        "Before start, make sure that you choose\n",
        "* Runtime Type = Python 3\n",
        "* Hardware Accelerator = GPU\n",
        "\n",
        "in the **Runtime** menu -> **Change runtime type**\n",
        "\n",
        "Then, we clone the repository, set up the envrironment."
      ]
    },
    {
      "cell_type": "code",
      "execution_count": null,
      "metadata": {
        "id": "GnpnrLfMV2jU"
      },
      "outputs": [],
      "source": [
        "# https://github.com/xinntao/Real-ESRGAN\n",
        "\n",
        "# Clone Real-ESRGAN and enter the Real-ESRGAN\n",
        "!git clone https://github.com/xinntao/Real-ESRGAN.git\n",
        "%cd Real-ESRGAN\n",
        "# Set up the environment\n",
        "!pip install basicsr\n",
        "!pip install facexlib\n",
        "!pip install gfpgan\n",
        "!pip install -r requirements.txt\n",
        "!python setup.py develop"
      ]
    },
    {
      "cell_type": "markdown",
      "metadata": {
        "id": "4pr9am3HWtvH"
      },
      "source": [
        "# 2. Upload Images\n",
        "\n",
        "Upload the images to be processed by Real-ESRGAN"
      ]
    },
    {
      "cell_type": "code",
      "execution_count": 14,
      "metadata": {
        "id": "u1tiyMZJW5td"
      },
      "outputs": [],
      "source": [
        "import os\n",
        "from google.colab import files\n",
        "import shutil\n",
        "\n",
        "UPLOAD_FOLDER = '/content/Real-ESRGAN/upload/'\n",
        "RESULT_FOLDER = '/content/Real-ESRGAN/results/'\n",
        "\n",
        "FILES_ADDRESS = '/content/drive/MyDrive/train/'\n",
        "UPSCALED_FOLDER = '/content/drive/MyDrive/upScaled/'\n",
        "\n",
        "if os.path.isdir(UPLOAD_FOLDER):\n",
        "    shutil.rmtree(UPLOAD_FOLDER)\n",
        "if os.path.isdir(RESULT_FOLDER):\n",
        "    shutil.rmtree(RESULT_FOLDER)\n",
        "os.mkdir(UPLOAD_FOLDER)\n",
        "os.mkdir(RESULT_FOLDER)\n"
      ]
    },
    {
      "cell_type": "code",
      "execution_count": 15,
      "metadata": {
        "colab": {
          "base_uri": "https://localhost:8080/"
        },
        "id": "H2y-mEnauHM-",
        "outputId": "5ee47d95-78ac-4db5-e3c8-446e62a52f43"
      },
      "outputs": [
        {
          "name": "stdout",
          "output_type": "stream",
          "text": [
            "Drive already mounted at /content/drive; to attempt to forcibly remount, call drive.mount(\"/content/drive\", force_remount=True).\n"
          ]
        }
      ],
      "source": [
        "# Mount google drive\n",
        "from google.colab import drive\n",
        "drive.mount('/content/drive')\n",
        "\n",
        "# copy files from drive to upload_folder\n",
        "!cp -r {FILES_ADDRESS}*.jpg {UPLOAD_FOLDER}"
      ]
    },
    {
      "cell_type": "markdown",
      "metadata": {
        "id": "rqiEtaOYXnrt"
      },
      "source": [
        "# 3. Inference\n",
        "\n",
        "Usage: python inference_realesrgan.py -n RealESRGAN_x4plus -i infile -o outfile [options]...\n",
        "\n",
        "A common command: python inference_realesrgan.py -n RealESRNet_x4plus -i infile --outscale 3.5 --face_enhance\n",
        "\n",
        " * -h                   show this help\n",
        " * -i --input           Input image or folder. Default: inputs\n",
        " * -o --output          Output folder. Default: results\n",
        " * -n --model_name      Model name. Default: RealESRGAN_x4plus\n",
        " * -s, --outscale       The final upsampling scale of the image. Default: 4\n",
        " * --suffix             Suffix of the restored image. Default: out\n",
        " * -t, --tile           Tile size, 0 for no tile during testing. Default: 0\n",
        " * --face_enhance       Whether to use GFPGAN to enhance face. Default: False\n",
        " * --fp32               Use fp32 precision during inference. Default: fp16 (half precision).\n",
        " * --ext                Image extension. Options: auto | jpg | png, auto means using the same extension as inputs. Default: auto\n"
      ]
    },
    {
      "cell_type": "code",
      "execution_count": 16,
      "metadata": {
        "colab": {
          "base_uri": "https://localhost:8080/"
        },
        "id": "XTVL4m_zXqBU",
        "outputId": "30edbca2-0e93-4ef4-a490-375215a6f7ac"
      },
      "outputs": [
        {
          "name": "stdout",
          "output_type": "stream",
          "text": [
            "/usr/local/lib/python3.10/dist-packages/torchvision/transforms/functional_tensor.py:5: UserWarning: The torchvision.transforms.functional_tensor module is deprecated in 0.15 and will be **removed in 0.17**. Please don't rely on it. You probably just need to use APIs in torchvision.transforms.functional or in torchvision.transforms.v2.functional.\n",
            "  warnings.warn(\n",
            "Testing 0 00013\n",
            "Testing 1 00074\n"
          ]
        }
      ],
      "source": [
        "# if it is out of memory, try to use the `--tile` option\n",
        "!python inference_realesrgan.py -n RealESRNet_x4plus.pth -i {UPLOAD_FOLDER}\n",
        "# 1. realesr-animevideov3\n",
        "# 2. RealESRGAN_x4plus\n",
        "# 3. RealESRGAN_x4plus_anime_6B\n",
        "# 4. RealESRNet_x4plus\n",
        "# 5. realesr-general-x4v3\n",
        "\n"
      ]
    },
    {
      "cell_type": "markdown",
      "metadata": {
        "id": "nKH0syu9ZAwV"
      },
      "source": [
        "# 4. Download Results\n"
      ]
    },
    {
      "cell_type": "code",
      "execution_count": 17,
      "metadata": {
        "id": "oZFHwas_dMvJ"
      },
      "outputs": [],
      "source": [
        "!cp -r {RESULT_FOLDER}*.jpg {UPSCALED_FOLDER}\n"
      ]
    }
  ],
  "metadata": {
    "accelerator": "GPU",
    "colab": {
      "collapsed_sections": [
        "6BPxh_VmVVIu"
      ],
      "provenance": []
    },
    "kernelspec": {
      "display_name": "Python 3",
      "name": "python3"
    },
    "language_info": {
      "name": "python"
    }
  },
  "nbformat": 4,
  "nbformat_minor": 0
}
